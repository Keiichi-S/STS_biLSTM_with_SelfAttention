{
 "cells": [
  {
   "cell_type": "code",
   "execution_count": 9,
   "metadata": {},
   "outputs": [],
   "source": [
    "import os\n",
    "from gensim.models import KeyedVectors\n",
    "word2vec = KeyedVectors.load_word2vec_format('GoogleNews-vectors-negative300.bin.gz', binary=True)"
   ]
  },
  {
   "cell_type": "code",
   "execution_count": 10,
   "metadata": {},
   "outputs": [],
   "source": [
    "def file_open(input):\n",
    "    sentences1 = []\n",
    "    sentences2 = []\n",
    "    with open(input, 'r', encoding='utf-8') as fileobj:\n",
    "        while True:\n",
    "            line = fileobj.readline()\n",
    "            if line :\n",
    "                s = line.split('\\t')\n",
    "                s[0] = s[0].rstrip().replace('.', ' ').replace('\"', ' ').replace(\"'\", \" \").replace(\"-\", \" \").replace(\":\", \" \").replace(\"%\", \" \").replace(\"*\", \" \").replace(\"!\", \" \").replace(\"?\", \" \").replace(\"@\", \" \").replace('/', ' ').replace(\",\", ' ').replace('(', ' ').replace(')', ' ').replace('#', ' ')\n",
    "                sentences1.append(s[0])\n",
    "                s[1] = s[1].rstrip().replace('.', ' ').replace('\"', ' ').replace(\"'\", \" \").replace(\"-\", \" \").replace(\":\", \" \").replace(\"%\", \" \").replace(\"*\", \" \").replace(\"!\", \" \").replace(\"?\", \" \").replace(\"@\", \" \").replace('/', ' ').replace(\",\", ' ').replace('(', ' ').replace(')', ' ').replace('#', ' ')\n",
    "                sentences2.append(s[1])\n",
    "            else:\n",
    "                break\n",
    "    return sentences1, sentences2"
   ]
  },
  {
   "cell_type": "code",
   "execution_count": 11,
   "metadata": {},
   "outputs": [],
   "source": [
    "def label_open(input):\n",
    "    with open(input, \"r\") as fileobj:\n",
    "        labels = [float(s.strip())/5. for s in fileobj.readlines()]\n",
    "    labels = np.asarray(labels)\n",
    "    return labels"
   ]
  },
  {
   "cell_type": "code",
   "execution_count": 12,
   "metadata": {},
   "outputs": [],
   "source": [
    "import numpy as np\n",
    "sentences1, sentences2 = file_open(\"input/STS.input.OnWN.txt\")\n",
    "labels = label_open(\"gs/STS.gs.OnWN.txt\")\n",
    "\n",
    "sentences1n, sentences2n = file_open(\"input/STS.input.MSRvid.txt\")\n",
    "sentences1 = np.concatenate([sentences1, sentences1n], axis=0)\n",
    "sentences2 = np.concatenate([sentences2, sentences2n], axis=0)\n",
    "labelsn = label_open(\"gs/STS.gs.MSRvid.txt\")\n",
    "labels = np.concatenate([labels, labelsn], axis=0)\n",
    "\n",
    "sentences1n, sentences2n = file_open(\"input/STS.input.SMTeuroparl.txt\")\n",
    "sentences1 = np.concatenate([sentences1, sentences1n], axis=0)\n",
    "sentences2 = np.concatenate([sentences2, sentences2n], axis=0)\n",
    "labelsn = label_open(\"gs/STS.gs.SMTeuroparl.txt\")\n",
    "labels = np.concatenate([labels, labelsn], axis=0)\n",
    "\n",
    "\n",
    "sentences1n, sentences2n = file_open(\"input/STS.input.tweet-news.txt\")\n",
    "sentences1 = np.concatenate([sentences1, sentences1n], axis=0)\n",
    "sentences2 = np.concatenate([sentences2, sentences2n], axis=0)\n",
    "labelsn = label_open(\"gs/STS.gs.tweet-news.txt\")\n",
    "labels = np.concatenate([labels, labelsn], axis=0)\n"
   ]
  },
  {
   "cell_type": "code",
   "execution_count": 13,
   "metadata": {},
   "outputs": [],
   "source": [
    "from nltk.stem import *\n",
    "from keras.preprocessing.text import *\n",
    "from keras.preprocessing.sequence import pad_sequences\n",
    "import nltk\n",
    "\n",
    "\n",
    "def lemmatize(texts):\n",
    "    s = []\n",
    "    a = np.zeros((len(texts), 75, 300))\n",
    "    for text in texts:\n",
    "        s.append(text_to_word_sequence(text))\n",
    "    for i, text in enumerate(s):\n",
    "        for j, word in enumerate(text):\n",
    "            if word in word2vec:\n",
    "                a[i][j][:] = word2vec[word]\n",
    "            else:\n",
    "                continue\n",
    "    return a"
   ]
  },
  {
   "cell_type": "code",
   "execution_count": null,
   "metadata": {},
   "outputs": [],
   "source": [
    "max_len = 75\n",
    "data_left = lemmatize(sentences1)\n",
    "data_right = lemmatize(sentences2)\n",
    "\n",
    "labels = np.asarray(labels)\n",
    "print('Shape of data tensor:', data_left.shape)\n",
    "print('Shape of labels tensor:', labels.shape)\n",
    "\n",
    "indices = np.arange(data_left.shape[0])\n",
    "np.random.shuffle(indices)\n",
    "data_left = data_left[indices]\n",
    "data_right = data_right[indices]\n",
    "labels = labels[indices]\n"
   ]
  },
  {
   "cell_type": "code",
   "execution_count": 15,
   "metadata": {
    "scrolled": true
   },
   "outputs": [],
   "source": [
    "import keras\n",
    "from keras.layers import *\n",
    "from keras.models import *\n",
    "from keras_self_attention import SeqSelfAttention\n",
    "\n",
    "def build_model():\n",
    "    input_left = Input(shape=(max_len, 300 ) ,name='input1')\n",
    "    input_right = Input(shape=(max_len, 300 ), name='input2')\n",
    "\n",
    "    lstm = Bidirectional(LSTM(32, dropout=0.5, recurrent_dropout=0.5, return_sequences=True), merge_mode='ave')\n",
    "\n",
    "    attention = SeqSelfAttention(attention_activation='sigmoid', kernel_regularizer=keras.regularizers.l2(1e-6), bias_regularizer=keras.regularizers.l1(1e-4), attention_regularizer_weight=1e-4)\n",
    "    left = lstm(input_left)\n",
    "    left = attention(left)\n",
    "    left = GlobalAveragePooling1D()(left)\n",
    "\n",
    "    right = lstm(input_right)\n",
    "    right = attention(right)\n",
    "    right = GlobalAveragePooling1D()(right)\n",
    "\n",
    "    out = Dot(axes=-1, normalize=True)([left, right])\n",
    "\n",
    "    model = Model(inputs=[input_left, input_right], output=out)\n",
    "    \n",
    "\n",
    "    model.compile(loss='mse', optimizer='adam', metrics=['mae'])\n",
    "    model.summary()\n",
    "    return model"
   ]
  },
  {
   "cell_type": "code",
   "execution_count": null,
   "metadata": {
    "scrolled": true
   },
   "outputs": [],
   "source": [
    "from keras.callbacks import *\n",
    "\n",
    "model = build_model()\n",
    "history = model.fit([data_left, data_right], labels, validation_split=0.2, epochs=100, batch_size=64, callbacks=[ModelCheckpoint(filepath='my_model_mask.h5', monitor='val_loss', save_best_only=True)])\n"
   ]
  },
  {
   "cell_type": "code",
   "execution_count": null,
   "metadata": {
    "scrolled": true
   },
   "outputs": [],
   "source": [
    "import matplotlib.pyplot as plt\n",
    "import numpy as np\n",
    "num_epochs=100\n",
    "\n",
    "mae = history.history[\"mae\"]\n",
    "val_mae = history.history['val_mae']\n",
    "loss = history.history['loss']\n",
    "val_loss = history.history['val_loss']\n",
    "\n",
    "epochs = range(1, len(mae) + 1)\n",
    "\n",
    "plt.plot(epochs, loss, 'bo', label='Traing loss')\n",
    "plt.plot(epochs, val_loss, 'b', label='Validation loss')\n",
    "plt.title('Training and validation loss')\n",
    "plt.legend()\n",
    "plt.figure()\n",
    "\n",
    "plt.plot(epochs, mae, 'bo', label='Traing mae')\n",
    "plt.plot(epochs, val_mae, 'b', label='Validation mae')\n",
    "plt.title('Training and validation mae')\n",
    "plt.legend()\n",
    "\n",
    "plt.show()"
   ]
  },
  {
   "cell_type": "code",
   "execution_count": 25,
   "metadata": {},
   "outputs": [],
   "source": [
    "test1, test2 = file_open(\"input/STS.input.images.txt\")\n",
    "test1 = lemmatize(test1)\n",
    "test2 = lemmatize(test2)\n",
    "\n",
    "\n",
    "model.load_weights('my_model_mask.h5')\n",
    "prediction = model.predict([test1, test2])"
   ]
  }
 ],
 "metadata": {
  "kernelspec": {
   "display_name": "Python 3",
   "language": "python",
   "name": "python3"
  },
  "language_info": {
   "codemirror_mode": {
    "name": "ipython",
    "version": 3
   },
   "file_extension": ".py",
   "mimetype": "text/x-python",
   "name": "python",
   "nbconvert_exporter": "python",
   "pygments_lexer": "ipython3",
   "version": "3.7.3"
  }
 },
 "nbformat": 4,
 "nbformat_minor": 2
}
